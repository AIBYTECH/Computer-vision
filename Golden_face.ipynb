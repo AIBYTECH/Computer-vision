{
  "nbformat": 4,
  "nbformat_minor": 0,
  "metadata": {
    "colab": {
      "name": "Golden_face.ipynb",
      "provenance": [],
      "machine_shape": "hm",
      "include_colab_link": true
    },
    "kernelspec": {
      "name": "python3",
      "display_name": "Python 3"
    },
    "language_info": {
      "name": "python"
    },
    "accelerator": "GPU"
  },
  "cells": [
    {
      "cell_type": "markdown",
      "metadata": {
        "id": "view-in-github",
        "colab_type": "text"
      },
      "source": [
        "<a href=\"https://colab.research.google.com/github/AIBYTECH/Computer-vision/blob/main/Golden_face.ipynb\" target=\"_parent\"><img src=\"https://colab.research.google.com/assets/colab-badge.svg\" alt=\"Open In Colab\"/></a>"
      ]
    },
    {
      "cell_type": "markdown",
      "source": [
        "#Notes:\n",
        "\n",
        "#(0,0) is upper left corner\n",
        "\n",
        "#distance from the top of the nose to the centre of the lips should be 1.618 times the distance\n",
        "#from the centre of the lips to the chin\n",
        "#---> top of nose is the 1st point, centre of lips is the half-way point of the y-component of the 10th point, bottom of chin is the 9th point\n",
        "\n",
        "\n",
        "#the hairline to the upper eyelid should be 1.618 times the length of the top of the upper eyebrow\n",
        "#to the lower eyelid\n",
        "#---> hairline??????????????\n",
        "\n",
        "#the ideal ratio of upper to lower lip volume is 1:1.6 (the lower lip should have slightly more \n",
        "#volume than the upper lip\n",
        "#---> lip volume????????\n",
        "\n",
        "#length of your face divided by the width of your face\n",
        "#---> width can be taken at the cheekbones (2nd point)\n",
        "\n",
        "#width of lips divided by the length and length of nose divided by the width \n",
        "#---> upper: length = 7th point - 1st point on x-axis; width = 4th point - 10th point on y-axis\n",
        "#---> lower: length = 1st point - 7th point on x - axis; width = 4th point - 10th point on y-axis\n",
        "\n",
        "#the area from the eye to the eyebrow divided by the area of the eyebrow\n",
        "#---->????\n",
        "#width of the chin just below the lip should be 1.618 the length of the lip\n",
        "#-----> width of chin = 13th point - 5th point on x-axis\n",
        "#---> length of lip = 1st point - 7th point on x-axis\n",
        "\n",
        "#NOSE: (nose length divided by nose width)/1.618 = percentage score of nose Phi ratio\n",
        "#if nose ratio smaller than PHi\n",
        "#---> nose length = all 5 points on y-axis of nose bridge\n",
        "#---> nose width = 5th point of nose tip minus 1st point on x-axis\n",
        "\n",
        "#EYEBROWS: measure your eyebrow from the end nearest to your nose to the arch in a straight line\n",
        "# = Arch Length\n",
        "#---> use pythagorean theorem\n",
        "#measure eyebrow from the same end to the opposite tip in a straight line = full length\n",
        "#---> use pythagorean theorem\n",
        "#divide full length by arch length = eyebrow ratio\n",
        "\n",
        "#LIPS: measure the length of the lip from end to end = Lip Length\n",
        "#Divide Lip Length by Nose Width\n",
        "#the distance from the corner of the lip to the opposite edge of the nose should also be \n",
        "#---> use pythagorean theorem\n",
        "#equal to Base of Nose * 1.618\n",
        "\n",
        "#length and width of the face, then divide length by width, result should be 1.6\n",
        "#---> 2nd point of chin, 16th point are width; \n",
        "#from the forehead hairline to a spot between the eyes, from between the eyes to the bottom\n",
        "#of the nose, and from the bottom of the nose to the bottom of the chin, numbers should be equal\n",
        "#---> hairline = ????\n",
        "#---> 1st nose point to last nose point\n",
        "#---> from last nose point to 9th nose point   all y-axis\n",
        "\n",
        "#length of an ear is equal to the length of the nose, and the width of an eye is equal to the \n",
        "#distance between eyes\n",
        "#--->length of ear???\n",
        "#---> 1st point and 4th point = width of an eye x-axis\n",
        "#---> 4th point of right eye and 1st point of left eye x-axis\n",
        "\n",
        "#distance between eyes divided by the length of the eye should equal phi\n",
        "#---> 1st point and 4th point = width of an eye x-axis\n",
        "#---> 4th point of right eye and 1st point of left eye x-axis\n",
        "\n",
        "#distance from the nose to the edge of the eye, divided by the distance from the edge of the eye \n",
        "#to the corner of the lips should equal phi\n",
        "\n",
        "#the area of the bottom lip divided by the area of top lip should equal phi\n",
        "#the length of the lip end to end divided by the distance at the base of the nose = phi\n",
        "#corner of lip to opposite corner of nose, divided by length of the base of the nose = phi\n",
        "\n",
        "#the area from the eye to the eyebrow divided by the area of the eyebrow"
      ],
      "metadata": {
        "id": "qBIctnbiV-Gi"
      }
    },
    {
      "cell_type": "code",
      "source": [
        "!pip install face-recognition"
      ],
      "metadata": {
        "colab": {
          "base_uri": "https://localhost:8080/"
        },
        "id": "3emkzei2XGEs",
        "outputId": "a64ff384-dbd4-4435-c74f-62f1edf2337b"
      },
      "execution_count": null,
      "outputs": [
        {
          "output_type": "stream",
          "name": "stdout",
          "text": [
            "Looking in indexes: https://pypi.org/simple, https://us-python.pkg.dev/colab-wheels/public/simple/\n",
            "Collecting face-recognition\n",
            "  Downloading face_recognition-1.3.0-py2.py3-none-any.whl (15 kB)\n",
            "Requirement already satisfied: numpy in /usr/local/lib/python3.7/dist-packages (from face-recognition) (1.21.6)\n",
            "Collecting face-recognition-models>=0.3.0\n",
            "  Downloading face_recognition_models-0.3.0.tar.gz (100.1 MB)\n",
            "\u001b[K     |████████████████████████████████| 100.1 MB 37 kB/s \n",
            "\u001b[?25hRequirement already satisfied: Pillow in /usr/local/lib/python3.7/dist-packages (from face-recognition) (7.1.2)\n",
            "Requirement already satisfied: Click>=6.0 in /usr/local/lib/python3.7/dist-packages (from face-recognition) (7.1.2)\n",
            "Requirement already satisfied: dlib>=19.7 in /usr/local/lib/python3.7/dist-packages (from face-recognition) (19.18.0+zzzcolab20220513001918)\n",
            "Building wheels for collected packages: face-recognition-models\n",
            "  Building wheel for face-recognition-models (setup.py) ... \u001b[?25l\u001b[?25hdone\n",
            "  Created wheel for face-recognition-models: filename=face_recognition_models-0.3.0-py2.py3-none-any.whl size=100566186 sha256=d237ba9af68c0f6cbfe3186697e0f7223e404253fc8a1c9057b55c339df63e7c\n",
            "  Stored in directory: /root/.cache/pip/wheels/d6/81/3c/884bcd5e1c120ff548d57c2ecc9ebf3281c9a6f7c0e7e7947a\n",
            "Successfully built face-recognition-models\n",
            "Installing collected packages: face-recognition-models, face-recognition\n",
            "Successfully installed face-recognition-1.3.0 face-recognition-models-0.3.0\n"
          ]
        }
      ]
    },
    {
      "cell_type": "code",
      "source": [
        "from PIL import Image, ImageDraw\n",
        "import face_recognition\n",
        "import scipy.constants\n",
        "import numpy as np"
      ],
      "metadata": {
        "id": "X7nFi12BWi1B"
      },
      "execution_count": null,
      "outputs": []
    },
    {
      "cell_type": "code",
      "source": [
        "from google.colab import files\n",
        "from IPython.display import Image"
      ],
      "metadata": {
        "id": "T3G1Tka3aY1L"
      },
      "execution_count": null,
      "outputs": []
    },
    {
      "cell_type": "code",
      "source": [
        "uploaded = files.upload()"
      ],
      "metadata": {
        "colab": {
          "resources": {
            "http://localhost:8080/nbextensions/google.colab/files.js": {
              "data": "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",
              "ok": true,
              "headers": [
                [
                  "content-type",
                  "application/javascript"
                ]
              ],
              "status": 200,
              "status_text": ""
            }
          },
          "base_uri": "https://localhost:8080/",
          "height": 73
        },
        "id": "J-DhK59jazah",
        "outputId": "59e7c172-3d23-4ce8-fe6a-479d034abb8d"
      },
      "execution_count": null,
      "outputs": [
        {
          "output_type": "display_data",
          "data": {
            "text/plain": [
              "<IPython.core.display.HTML object>"
            ],
            "text/html": [
              "\n",
              "     <input type=\"file\" id=\"files-7156a5fa-0e2b-4a4d-afd4-24c4b2b925a4\" name=\"files[]\" multiple disabled\n",
              "        style=\"border:none\" />\n",
              "     <output id=\"result-7156a5fa-0e2b-4a4d-afd4-24c4b2b925a4\">\n",
              "      Upload widget is only available when the cell has been executed in the\n",
              "      current browser session. Please rerun this cell to enable.\n",
              "      </output>\n",
              "      <script src=\"/nbextensions/google.colab/files.js\"></script> "
            ]
          },
          "metadata": {}
        },
        {
          "output_type": "stream",
          "name": "stdout",
          "text": [
            "Saving WhatsApp Image 2022-05-24 at 12.10.39 AM.jpeg to WhatsApp Image 2022-05-24 at 12.10.39 AM.jpeg\n"
          ]
        }
      ]
    },
    {
      "cell_type": "code",
      "execution_count": null,
      "metadata": {
        "id": "s5Xn1gkBVy4r"
      },
      "outputs": [],
      "source": [
        "photo=\"WhatsApp Image 2022-05-24 at 12.10.39 AM.jpeg\"    #enter name of file here"
      ]
    },
    {
      "cell_type": "code",
      "source": [
        "print(\"Welcome to the facial beauty calculator. This program will perform various calculations on the face in any image you provide based on calculations performed on the face of many beauty models and compare the results to the golden ratio. Please, provide images where the entire face is included. The face in the image should be expressionless and relaxed for best results. Any expressions may change the results.\")\n",
        "print(\"Results are provided for some individual landmarks and properties of the face. Then a total beauty score is calculated.\")\n",
        "print(\"Additionally, a comparison between the photo of the face and the computationally generated perfect face is calculated. This comparison is independent of the first measurements.\")\n",
        "print(\"Please, enjoy!\")"
      ],
      "metadata": {
        "colab": {
          "base_uri": "https://localhost:8080/"
        },
        "id": "sWRn_bhqYB6_",
        "outputId": "391029d8-5d40-4b14-e47a-ea2d5b92fdf9"
      },
      "execution_count": null,
      "outputs": [
        {
          "output_type": "stream",
          "name": "stdout",
          "text": [
            "Welcome to the facial beauty calculator. This program will perform various calculations on the face in any image you provide based on calculations performed on the face of many beauty models and compare the results to the golden ratio. Please, provide images where the entire face is included. The face in the image should be expressionless and relaxed for best results. Any expressions may change the results.\n",
            "Results are provided for some individual landmarks and properties of the face. Then a total beauty score is calculated.\n",
            "Additionally, a comparison between the photo of the face and the computationally generated perfect face is calculated. This comparison is independent of the first measurements.\n",
            "Please, enjoy!\n"
          ]
        }
      ]
    },
    {
      "cell_type": "code",
      "source": [
        "# Load the jpg file into a numpy array\n",
        "image = face_recognition.load_image_file(photo)"
      ],
      "metadata": {
        "id": "mE7pR7aVYQ1h"
      },
      "execution_count": null,
      "outputs": []
    },
    {
      "cell_type": "code",
      "source": [
        "# Find all facial features in ll the faces in the image\n",
        "face_landmarks_list = face_recognition.face_landmarks(image)  #(0,0) is upper left corner"
      ],
      "metadata": {
        "id": "XLRuDt6ubtAo"
      },
      "execution_count": null,
      "outputs": []
    },
    {
      "cell_type": "code",
      "source": [
        "if (len(face_landmarks_list))>1:\n",
        "   print(\"Sorry, there are too many faces in the image. Only use image of one face.\")\n",
        "elif (len(face_landmarks_list))==0:\n",
        "   print(\"Sorry, no image was detected in the image. Please, try again.\")"
      ],
      "metadata": {
        "id": "2w5WQ_ZkbvUd"
      },
      "execution_count": null,
      "outputs": []
    },
    {
      "cell_type": "code",
      "source": [
        "print(\"I found {} face(s) in this photograph.\".format(len(face_landmarks_list)))"
      ],
      "metadata": {
        "colab": {
          "base_uri": "https://localhost:8080/"
        },
        "id": "dKaAcIGHcRTC",
        "outputId": "03e0a997-514e-4b38-b645-770a457034f5"
      },
      "execution_count": null,
      "outputs": [
        {
          "output_type": "stream",
          "name": "stdout",
          "text": [
            "I found 1 face(s) in this photograph.\n"
          ]
        }
      ]
    },
    {
      "cell_type": "code",
      "source": [
        "import tensorflow as tf\n",
        "import numpy as np\n",
        "from PIL import Image\n",
        "from io import StringIO \n",
        "from IPython.display import clear_output, Image as displayImage, display"
      ],
      "metadata": {
        "id": "M_3hwoqKdatu"
      },
      "execution_count": null,
      "outputs": []
    },
    {
      "cell_type": "code",
      "source": [
        "# Create a PIL imagedraw object so we can draw on the picture\n",
        "pil_image = Image.fromarray(image)\n",
        "d = ImageDraw.Draw(pil_image)\n"
      ],
      "metadata": {
        "id": "NdplUglFcgoo"
      },
      "execution_count": null,
      "outputs": []
    },
    {
      "cell_type": "code",
      "source": [
        "nose_top=[]"
      ],
      "metadata": {
        "id": "fGTeKeKTdusp"
      },
      "execution_count": null,
      "outputs": []
    },
    {
      "cell_type": "code",
      "source": [
        "\n",
        "#extraction of coordinates\n",
        "lists=[]"
      ],
      "metadata": {
        "id": "A0SjAztXdyuY"
      },
      "execution_count": null,
      "outputs": []
    },
    {
      "cell_type": "code",
      "source": [
        "for face_landmarks in face_landmarks_list:\n",
        "\n",
        "    # Print the location of each facial feature in this image\n",
        "    for facial_feature in face_landmarks.keys():\n",
        "        #print(\"The {} in this face has the following points: {}\".format(facial_feature, face_landmarks[facial_feature]))\n",
        "        lists.append(face_landmarks[facial_feature])  #first list is chin, 2nd list is left eyebrow, 3rd is right eyebrow, 4th is nose bridge, 5th is nose tip, 6th is left eye, 7th is right eye, 8th is top lip, 9th is bottom lip\n",
        "    n=0\n",
        "    # Let's trace out each facial feature in the image with a line!\n",
        "    for facial_feature in face_landmarks.keys():\n",
        "        n=n+1\n",
        "        m=str(n)\n",
        "        d.point(face_landmarks[facial_feature])"
      ],
      "metadata": {
        "id": "h0ruCKqzd9Na"
      },
      "execution_count": null,
      "outputs": []
    },
    {
      "cell_type": "code",
      "source": [
        "\n",
        "# Show the picture\n",
        "pil_image.show()"
      ],
      "metadata": {
        "id": "tjupLedkd_wG"
      },
      "execution_count": null,
      "outputs": []
    },
    {
      "cell_type": "code",
      "source": [
        "\n",
        "chin=[]\n",
        "left_eyebrow=[]\n",
        "right_eyebrow=[]\n",
        "nose_bridge=[]\n",
        "nose_tip=[]\n",
        "left_eye=[]\n",
        "right_eye=[]\n",
        "top_lip=[]\n",
        "bottom_lip=[]"
      ],
      "metadata": {
        "id": "cCB8dCK_eL9O"
      },
      "execution_count": null,
      "outputs": []
    },
    {
      "cell_type": "code",
      "source": [
        "\n",
        "chin.append(lists[0])\n",
        "left_eyebrow.append(lists[1])\n",
        "right_eyebrow.append(lists[2])\n",
        "nose_bridge.append(lists[3])\n",
        "nose_tip.append(lists[4])\n",
        "left_eye.append(lists[5])\n",
        "right_eye.append(lists[6])\n",
        "top_lip.append(lists[7])\n",
        "bottom_lip.append(lists[8])"
      ],
      "metadata": {
        "id": "r0B7lIABeN3_"
      },
      "execution_count": null,
      "outputs": []
    },
    {
      "cell_type": "code",
      "source": [
        "\n",
        "##distance from the top of the nose to the centre of the lips should be 1.618 times the distance\n",
        "#from the centre of the lips to the chin\n",
        "#---> top of nose is the 1st point, centre of lips is the half-way point of the y-component of the 10th point, bottom of chin is the 9th point\n",
        "(x1,y1)=nose_bridge[0][0]\n",
        "(x2,y2)=top_lip[0][9]\n",
        "(x3,y3)=bottom_lip[0][9]\n",
        "(x4,y4)=chin[0][8]\n",
        "a=(((y2+y3)/2)-y1)\n",
        "b=((y4-((y2+y3)/2)))\n",
        "value1=((b/a)/(scipy.constants.golden))*100  #(should equal scipy.constants.golden)"
      ],
      "metadata": {
        "id": "E4r-m2-3eWZV"
      },
      "execution_count": null,
      "outputs": []
    },
    {
      "cell_type": "code",
      "source": [
        "\n",
        "#length of your face divided by the width of your face\n",
        "#---> width can be taken at the cheekbones (1st point and 17th point), length can be taken 1st point of chin and 9th point of chin\n",
        "(x1,y1)=chin[0][0]\n",
        "(x2,y2)=chin[0][16]\n",
        "(x3,y3)=chin[0][8]\n",
        "a=x2-x1\n",
        "b=y3-y1\n",
        "value2=((b/a)/scipy.constants.golden)*100\n"
      ],
      "metadata": {
        "id": "ogKgCzUQek97"
      },
      "execution_count": null,
      "outputs": []
    },
    {
      "cell_type": "code",
      "source": [
        "\n",
        "#NOSE: (nose length divided by nose width)/1.618 = percentage score of nose Phi ratio\n",
        "#if nose ratio smaller than PHi\n",
        "#---> nose length = all 5 points on y-axis of nose bridge\n",
        "#---> nose width = 5th point of nose tip minus 1st point on x-axis\n",
        "(x1,y1)=nose_bridge[0][3]\n",
        "(x2,y2)=nose_tip[0][4]\n",
        "value3=((y1/x2)/(scipy.constants.golden))*100\n",
        "print(\"The beauty ratio of your nose is\",value3,\"%\")"
      ],
      "metadata": {
        "colab": {
          "base_uri": "https://localhost:8080/"
        },
        "id": "r8u5f0GbenRc",
        "outputId": "a7babfa3-b934-42c3-b56a-e8ea1b608483"
      },
      "execution_count": null,
      "outputs": [
        {
          "output_type": "stream",
          "name": "stdout",
          "text": [
            "The beauty ratio of your nose is 118.57972702808985 %\n"
          ]
        }
      ]
    },
    {
      "cell_type": "code",
      "source": [
        "\n",
        "#EYEBROWS: measure your eyebrow from the end nearest to your nose to the arch in a straight line\n",
        "# = Arch Length\n",
        "#---> use pythagorean theorem, 3rd point, and 5th point\n",
        "(x1,y1)=left_eyebrow[0][2]\n",
        "(x2,y2)=left_eyebrow[0][4]\n",
        "(x3,y3)=right_eyebrow[0][0]\n",
        "(x4,y4)=right_eyebrow[0][2]\n",
        "a1=x2-x1\n",
        "b1=y1-y2\n",
        "a2=x4-x3\n",
        "b2=y3-y4\n",
        "result1=np.sqrt((a1**2)+(b1**2))\n",
        "result2=np.sqrt((a2**2)+(b2**2))\n",
        "#measure eyebrow from the same end to the opposite tip in a straight line = full length"
      ],
      "metadata": {
        "id": "tBxV8j0Ee7vA"
      },
      "execution_count": null,
      "outputs": []
    },
    {
      "cell_type": "code",
      "source": [
        "#---> use pythagorean theorem\n",
        "(x1,y1)=left_eyebrow[0][0]\n",
        "(x2,y2)=left_eyebrow[0][4]\n",
        "(x3,y3)=right_eyebrow[0][0]\n",
        "(x4,y4)=right_eyebrow[0][4]\n",
        "a1=x2-x1\n",
        "b1=y1-y2\n",
        "a2=x4-x3\n",
        "b2=y4-y3\n",
        "result3=np.sqrt((a1**2)+(b1**2))\n",
        "result4=np.sqrt((a2**2)+(b2**2))\n",
        "#divide full length by arch length = eyebrow ratio ---> arch length/full length since arch length is always lower than full length\n",
        "value4=((result1/result3)/(scipy.constants.golden))*100    #left eyebrow\n",
        "value5=((result2/result4)/(scipy.constants.golden))*100    #right eyebrow\n",
        "print(\"The beauty ratio of your right eyebrow is\",value4,\"%\")\n",
        "print(\"The beauty ratio of your left eyebrow is\",value5,\"%\")"
      ],
      "metadata": {
        "colab": {
          "base_uri": "https://localhost:8080/"
        },
        "id": "F-apzlpIfDmK",
        "outputId": "83a88cbe-cf37-4b43-a616-ac05b99488db"
      },
      "execution_count": null,
      "outputs": [
        {
          "output_type": "stream",
          "name": "stdout",
          "text": [
            "The beauty ratio of your right eyebrow is 31.86938145054582 %\n",
            "The beauty ratio of your left eyebrow is 32.25423307107391 %\n"
          ]
        }
      ]
    },
    {
      "cell_type": "code",
      "source": [
        "\n",
        "#LIPS: measure the length of the lip from end to end = Lip Length\n",
        "#Divide Lip Length by Nose Width\n",
        "(x1,y1)=top_lip[0][0]\n",
        "(x2,y2)=bottom_lip[0][0]\n",
        "(x3,y3)=nose_tip[0][0]\n",
        "(x4,y4)=nose_tip[0][4]\n",
        "a1=x2-x1\n",
        "b1=x4-x3\n",
        "value6=((b1/a1)/(scipy.constants.golden))*100       #not included in final measurement\n",
        "print(\"The beauty ratio of your lips is\",value6,\"%\")\n"
      ],
      "metadata": {
        "colab": {
          "base_uri": "https://localhost:8080/"
        },
        "id": "6YVPfDBZfTtN",
        "outputId": "b39a02a3-4c67-49ac-8300-65837f66e340"
      },
      "execution_count": null,
      "outputs": [
        {
          "output_type": "stream",
          "name": "stdout",
          "text": [
            "The beauty ratio of your lips is 29.66563145999495 %\n"
          ]
        }
      ]
    },
    {
      "cell_type": "code",
      "source": [
        "\n",
        "#the distance from the corner of the lip to the opposite edge of the nose should also be \n",
        "#---> use pythagorean theorem\n",
        "#equal to Base of Nose * 1.618\n",
        "(x1,y1)=top_lip[0][0]\n",
        "(x2,y2)=nose_tip[0][4]\n",
        "(x3,y3)=bottom_lip[0][0]\n",
        "(x4,y4)=nose_tip[0][0]\n",
        "a1=x2-x1\n",
        "b1=y1-y2\n",
        "a2=x3-x4\n",
        "b2=y3-y4\n",
        "c1=x2-x4\n",
        "result1=np.sqrt((a1**2)+(b1**2))\n",
        "result2=np.sqrt((a2**2)+(b2**2))\n",
        "value7=((c1/result1)/(scipy.constants.golden))*100\n",
        "value8=((c1/result2)/(scipy.constants.golden))*100"
      ],
      "metadata": {
        "id": "3XXQlbN4fZDc"
      },
      "execution_count": null,
      "outputs": []
    },
    {
      "cell_type": "code",
      "source": [
        "#from the forehead hairline to a spot between the eyes, from between the eyes to the bottom\n",
        "#of the nose, and from the bottom of the nose to the bottom of the chin, numbers should be equal\n",
        "#---> hairline = ????\n",
        "#---> 1st nose point to last nose point\n",
        "#---> from last nose point to 9th nose point   all y-axis\n",
        "#(x1,y1)=nose_bridge[0][0]\n",
        "#(x2,y2)=nose_tip[0][2]\n",
        "#(x3,y2)=chin[0][8]\n",
        "#result1=y2-y1\n",
        "#result2=y3-y2\n",
        "#value20=(result1-result2)"
      ],
      "metadata": {
        "id": "Kg5Q-e4_feWZ"
      },
      "execution_count": null,
      "outputs": []
    },
    {
      "cell_type": "code",
      "source": [
        "\n",
        "#length of an ear is equal to the length of the nose, and the width of an eye is equal to the \n",
        "#distance between eyes\n",
        "#--->length of ear???\n",
        "#---> 1st point and 4th point = width of an eye x-axis\n",
        "#---> 4th point of right eye and 1st point of left eye x-axis\n",
        "(x1,y1)=left_eye[0][0]\n",
        "(x2,y2)=left_eye[0][3]\n",
        "(x3,y3)=right_eye[0][0]\n",
        "(x4,y4)=right_eye[0][3]\n",
        "a1=x2-x1\n",
        "b1=x4-x3\n",
        "c1=x3-x2\n",
        "#result1=c1-a1\n",
        "#result2=c1-b1"
      ],
      "metadata": {
        "id": "ls8LaS2Ofo0F"
      },
      "execution_count": null,
      "outputs": []
    },
    {
      "cell_type": "code",
      "source": [
        "\n",
        "#distance between eyes divided by the length of the eye should equal phi\n",
        "#---> 1st point and 4th point = width of an eye x-axis\n",
        "#---> 4th point of right eye and 1st point of left eye x-axis\n",
        "value9=((a1/c1)/(scipy.constants.golden))*100  #left eye\n",
        "value10=((b1/c1)/(scipy.constants.golden))*100  #right eye\n",
        "print(\"The beauty ratio of your right eye is\",value9,\"%\")\n",
        "print(\"The beauty ratio of your left eye is\",value10,\"%\")"
      ],
      "metadata": {
        "colab": {
          "base_uri": "https://localhost:8080/"
        },
        "id": "UWOgUF4-fvc7",
        "outputId": "a21abcaa-92af-4ce5-b9a9-3071551ed850"
      },
      "execution_count": null,
      "outputs": [
        {
          "output_type": "stream",
          "name": "stdout",
          "text": [
            "The beauty ratio of your right eye is 44.26459649154652 %\n",
            "The beauty ratio of your left eye is 45.09977755742476 %\n"
          ]
        }
      ]
    },
    {
      "cell_type": "code",
      "source": [
        "\n",
        "#distance from the nose to the edge of the eye, divided by the distance from the edge of the eye \n",
        "#to the corner of the lips should equal phi\n",
        "(x1,y1)=nose_tip[0][2]\n",
        "(x2,y2)=right_eye[0][3]\n",
        "(x3,y3)=bottom_lip[0][0]\n",
        "(x4,y4)=top_lip[0][0]\n",
        "(x5,y5)=left_eye[0][0]\n",
        "a1=x2-x1\n",
        "b1=y1-y2\n",
        "result1=np.sqrt((a1**2)+(b1**2))\n",
        "a2=x2-x3\n",
        "b2=y3-y2\n",
        "result2=np.sqrt((a2**2)+(b2**2))\n",
        "a3=x1-x5\n",
        "b3=y1-y5\n",
        "result3=np.sqrt((a3**2)+(b3**2))\n",
        "a4=x4-x5\n",
        "b4=y4-y5\n",
        "result4=np.sqrt((a4**2)+(b4**2))\n",
        "value11=((result1/result2)/(scipy.constants.golden))*100\n",
        "value12=((result3/result4)/(scipy.constants.golden))*100"
      ],
      "metadata": {
        "id": "7XAXM6O3fylI"
      },
      "execution_count": null,
      "outputs": []
    },
    {
      "cell_type": "code",
      "source": [
        "#width of lips divided by the length and length of nose divided by the width \n",
        "#---> upper: length = 7th point - 1st point on x-axis; width = 4th point - 10th point on y-axis\n",
        "#---> lower: length = 1st point - 7th point on x - axis; width = 4th point - 10th point on y-axis\n",
        "#length"
      ],
      "metadata": {
        "id": "m-IClRYggEGC"
      },
      "execution_count": null,
      "outputs": []
    },
    {
      "cell_type": "code",
      "source": [
        "(x1,y1)=top_lip[0][0]\n",
        "(x2,y2)=top_lip[0][6]\n",
        "(x3,y3)=bottom_lip[0][6]\n",
        "(x4,y4)=bottom_lip[0][0]\n",
        "#width\n",
        "(x5,y5)=top_lip[0][3]\n",
        "(x6,y6)=top_lip[0][9]\n",
        "(x7,y7)=bottom_lip[0][3]\n",
        "(x8,y8)=bottom_lip[0][9]\n",
        "a1=x2-x1\n",
        "b1=y6-y5\n",
        "value13=((b1/a1)/(scipy.constants.golden))*100           #unused measurements\n",
        "a2=x4-x3\n",
        "b2=y7-y8\n",
        "value14=((b1/a1)/(scipy.constants.golden))*100      #unused value\n"
      ],
      "metadata": {
        "id": "yGQ959LxgMDw"
      },
      "execution_count": null,
      "outputs": []
    },
    {
      "cell_type": "code",
      "source": [
        "\n",
        "(x9,y9)=nose_tip[0][2]\n",
        "(x10,y10)=nose_bridge[0][0]\n",
        "(x11,y11)=nose_tip[0][0]\n",
        "(x12,y12)=nose_tip[0][4]\n",
        "a1=y9-y10\n",
        "b1=x12-x11\n",
        "value15=((b1/a1)/(scipy.constants.golden))*100    #unused value"
      ],
      "metadata": {
        "id": "j6PdXXHbgUci"
      },
      "execution_count": null,
      "outputs": []
    },
    {
      "cell_type": "code",
      "source": [
        "#width of the chin just below the lip should be 1.618 the length of the lip\n",
        "#-----> width of chin = 13th point - 5th point on x-axis\n",
        "#---> length of lip = 1st point - 7th point on x-axis\n",
        "(x1,y1)=chin[0][7]\n",
        "(x2,y2)=chin[0][9]\n",
        "a1=x2-x1\n",
        "(x3,y3)=bottom_lip[0][6]\n",
        "(x4,y4)=bottom_lip[0][0]\n",
        "b1=x4-x3\n",
        "value16=((a1/b1)/(scipy.constants.golden))*100"
      ],
      "metadata": {
        "id": "diHGcWm2gdAo"
      },
      "execution_count": null,
      "outputs": []
    },
    {
      "cell_type": "code",
      "source": [
        "#while calculating the final beauty rating, eyebrows and eyes are considered as one value and not split into right and left, since ratings that include forehead and ears are missing additional points have been removed (a total of 400 points), also the corner of lip/nose ratio is considered to be one, value11 and value12 count as one, value9 and value10 considered as one\n",
        "finalvalue=((value1+value2+value3+value4+value5+value6+value7+value8+value9+value10+value11+value12+value16)/600)*100\n",
        "print(\"Congradulations! Your total beauty score is\",finalvalue,\"%\")"
      ],
      "metadata": {
        "colab": {
          "base_uri": "https://localhost:8080/"
        },
        "id": "s2yS8F0lglgR",
        "outputId": "86aa12b6-183d-4af2-d699-b976f7535d6b"
      },
      "execution_count": null,
      "outputs": [
        {
          "output_type": "stream",
          "name": "stdout",
          "text": [
            "Congradulations! Your total beauty score is 102.24804516469787 %\n"
          ]
        }
      ]
    }
  ]
}