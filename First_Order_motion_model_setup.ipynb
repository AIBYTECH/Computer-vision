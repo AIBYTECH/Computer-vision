{
  "nbformat": 4,
  "nbformat_minor": 0,
  "metadata": {
    "colab": {
      "provenance": [],
      "include_colab_link": true
    },
    "kernelspec": {
      "name": "python3",
      "display_name": "Python 3"
    },
    "accelerator": "GPU"
  },
  "cells": [
    {
      "cell_type": "markdown",
      "metadata": {
        "id": "view-in-github",
        "colab_type": "text"
      },
      "source": [
        "<a href=\"https://colab.research.google.com/github/AIBYTECH/Computer-vision/blob/main/First_Order_motion_model_setup.ipynb\" target=\"_parent\"><img src=\"https://colab.research.google.com/assets/colab-badge.svg\" alt=\"Open In Colab\"/></a>"
      ]
    },
    {
      "cell_type": "markdown",
      "metadata": {
        "id": "cdO_RxQZLahB"
      },
      "source": [
        "# Demo for paper \"First Order Motion Model for Image Animation\""
      ]
    },
    {
      "cell_type": "markdown",
      "metadata": {
        "id": "GCDNKsEGLtR6"
      },
      "source": [
        "**Mounting Google drive on colab**"
      ]
    },
    {
      "cell_type": "code",
      "metadata": {
        "id": "i8QvhkcjL5ny",
        "colab": {
          "base_uri": "https://localhost:8080/"
        },
        "outputId": "4bdf15df-1aa6-4770-ef90-94d464e05eb5"
      },
      "source": [
        "from google.colab import drive\n",
        "drive.mount('/content/gdrive')"
      ],
      "execution_count": null,
      "outputs": [
        {
          "output_type": "stream",
          "name": "stdout",
          "text": [
            "Mounted at /content/gdrive\n"
          ]
        }
      ]
    },
    {
      "cell_type": "markdown",
      "metadata": {
        "id": "3qSCsucBMESk"
      },
      "source": [
        "Move to the your **Google drive**"
      ]
    },
    {
      "cell_type": "code",
      "metadata": {
        "id": "occaA6CwMbl3",
        "colab": {
          "base_uri": "https://localhost:8080/"
        },
        "outputId": "1c1c89eb-6589-456f-91d0-d38302ac3d31"
      },
      "source": [
        "%cd /content/gdrive/MyDrive"
      ],
      "execution_count": null,
      "outputs": [
        {
          "output_type": "stream",
          "name": "stdout",
          "text": [
            "/content/gdrive/MyDrive\n"
          ]
        }
      ]
    },
    {
      "cell_type": "code",
      "source": [
        "!pwd"
      ],
      "metadata": {
        "id": "ABRxMCZjlgxn",
        "outputId": "791de534-e61f-45d9-d947-4cc1af9f8235",
        "colab": {
          "base_uri": "https://localhost:8080/"
        }
      },
      "execution_count": null,
      "outputs": [
        {
          "output_type": "stream",
          "name": "stdout",
          "text": [
            "/content/gdrive/MyDrive\n"
          ]
        }
      ]
    },
    {
      "cell_type": "markdown",
      "metadata": {
        "id": "jBZIhH2NfXns"
      },
      "source": [
        "creating **dir**"
      ]
    },
    {
      "cell_type": "code",
      "metadata": {
        "id": "m5YAYmEjefTB",
        "colab": {
          "base_uri": "https://localhost:8080/"
        },
        "outputId": "9bc32292-b900-44c3-f227-d9809da3e4ca"
      },
      "source": [
        "!mkdir deepfake"
      ],
      "execution_count": null,
      "outputs": [
        {
          "output_type": "stream",
          "name": "stdout",
          "text": [
            "mkdir: cannot create directory ‘deepfake’: File exists\n"
          ]
        }
      ]
    },
    {
      "cell_type": "code",
      "metadata": {
        "id": "ei13NJdNMo5i",
        "colab": {
          "base_uri": "https://localhost:8080/"
        },
        "outputId": "73b46bff-c260-4f47-afe0-8374bc58ecaa"
      },
      "source": [
        "%cd /content/gdrive/MyDrive/deepfake"
      ],
      "execution_count": null,
      "outputs": [
        {
          "output_type": "stream",
          "name": "stdout",
          "text": [
            "/content/gdrive/MyDrive/deepfake\n"
          ]
        }
      ]
    },
    {
      "cell_type": "code",
      "source": [
        "!pwd"
      ],
      "metadata": {
        "id": "X8VVrw-dlpOi",
        "outputId": "0590cd94-1a6f-41d1-c982-974bdf674e25",
        "colab": {
          "base_uri": "https://localhost:8080/"
        }
      },
      "execution_count": null,
      "outputs": [
        {
          "output_type": "stream",
          "name": "stdout",
          "text": [
            "/content/gdrive/MyDrive/deepfake\n"
          ]
        }
      ]
    },
    {
      "cell_type": "markdown",
      "metadata": {
        "id": "RRCkwrZxD-kR"
      },
      "source": [
        "clone this **repo**"
      ]
    },
    {
      "cell_type": "code",
      "metadata": {
        "id": "UCMFMJV7K-ag",
        "colab": {
          "base_uri": "https://localhost:8080/"
        },
        "outputId": "595c9017-a586-4cfa-a038-96e2dc2fa674"
      },
      "source": [
        "!git clone https://github.com/AliaksandrSiarohin/first-order-model"
      ],
      "execution_count": null,
      "outputs": [
        {
          "output_type": "stream",
          "name": "stdout",
          "text": [
            "fatal: destination path 'first-order-model' already exists and is not an empty directory.\n"
          ]
        }
      ]
    },
    {
      "cell_type": "markdown",
      "metadata": {
        "id": "0SSJEPx3ELVI"
      },
      "source": [
        "move the First order model dir\n"
      ]
    },
    {
      "cell_type": "code",
      "metadata": {
        "id": "PBp6l_4bBYUL",
        "colab": {
          "base_uri": "https://localhost:8080/"
        },
        "outputId": "db6eb123-7c34-4a59-97ed-a223813d6e53"
      },
      "source": [
        "%cd /content/gdrive/MyDrive/deepfake/first-order-model"
      ],
      "execution_count": null,
      "outputs": [
        {
          "output_type": "stream",
          "name": "stdout",
          "text": [
            "/content/gdrive/MyDrive/deepfake/first-order-model\n"
          ]
        }
      ]
    },
    {
      "cell_type": "code",
      "source": [
        "!pwd"
      ],
      "metadata": {
        "id": "QSRi0gFzmnQO",
        "outputId": "9d7b9605-d1dc-4943-a979-5531e7d9c02c",
        "colab": {
          "base_uri": "https://localhost:8080/"
        }
      },
      "execution_count": null,
      "outputs": [
        {
          "output_type": "stream",
          "name": "stdout",
          "text": [
            "/content/gdrive/MyDrive/deepfake/first-order-model\n"
          ]
        }
      ]
    },
    {
      "cell_type": "code",
      "metadata": {
        "id": "zI4Y4ph4EkB6",
        "colab": {
          "base_uri": "https://localhost:8080/"
        },
        "outputId": "e1cf4186-ab2c-42c4-f2d4-ac82cdbc76b2"
      },
      "source": [
        "ls"
      ],
      "execution_count": null,
      "outputs": [
        {
          "output_type": "stream",
          "name": "stdout",
          "text": [
            "animate.py       demo.py             logger.py          run.py\n",
            "augmentation.py  Dockerfile          \u001b[0m\u001b[01;34mmodules\u001b[0m/           \u001b[01;34msup-mat\u001b[0m/\n",
            "\u001b[01;34mconfig\u001b[0m/          \u001b[01;34mface-alignment\u001b[0m/     old_demo.ipynb     \u001b[01;34msync_batchnorm\u001b[0m/\n",
            "crop-video.py    frames_dataset.py   README.md          train.py\n",
            "\u001b[01;34mdata\u001b[0m/            intro_deepFake.mp4  reconstruction.py\n",
            "demo.ipynb       LICENSE.md          requirements.txt\n"
          ]
        }
      ]
    },
    {
      "cell_type": "markdown",
      "metadata": {
        "id": "6pGKn8lnfgaU"
      },
      "source": [
        "clone this **face-alignment** **repository**"
      ]
    },
    {
      "cell_type": "code",
      "metadata": {
        "id": "ah2cM8ngEp41",
        "colab": {
          "base_uri": "https://localhost:8080/"
        },
        "outputId": "e35e6a2c-b141-43c1-df97-87865bdd24dc"
      },
      "source": [
        "!git clone https://github.com/1adrianb/face-alignment"
      ],
      "execution_count": null,
      "outputs": [
        {
          "output_type": "stream",
          "name": "stdout",
          "text": [
            "fatal: destination path 'face-alignment' already exists and is not an empty directory.\n"
          ]
        }
      ]
    },
    {
      "cell_type": "code",
      "source": [
        "%cd /content/gdrive/MyDrive/deepfake/first-order-model/face-alignment"
      ],
      "metadata": {
        "id": "KQDPk9zenTLn",
        "outputId": "c9245f31-9475-410b-d862-9be092c6cc0a",
        "colab": {
          "base_uri": "https://localhost:8080/"
        }
      },
      "execution_count": null,
      "outputs": [
        {
          "output_type": "stream",
          "name": "stdout",
          "text": [
            "/content/gdrive/MyDrive/deepfake/first-order-model/face-alignment\n"
          ]
        }
      ]
    },
    {
      "cell_type": "code",
      "metadata": {
        "id": "Gg2-n5PrNC4i",
        "colab": {
          "base_uri": "https://localhost:8080/"
        },
        "outputId": "0dd68037-49b1-4ea5-d035-2e717157fefc"
      },
      "source": [
        "ls"
      ],
      "execution_count": null,
      "outputs": [
        {
          "output_type": "stream",
          "name": "stdout",
          "text": [
            "\u001b[0m\u001b[01;34mbuild\u001b[0m/  Dockerfile  \u001b[01;34mface_alignment\u001b[0m/           README.md         setup.py\n",
            "\u001b[01;34mconda\u001b[0m/  \u001b[01;34mdocs\u001b[0m/       \u001b[01;34mface_alignment.egg-info\u001b[0m/  requirements.txt  \u001b[01;34mtest\u001b[0m/\n",
            "\u001b[01;34mdist\u001b[0m/   \u001b[01;34mexamples\u001b[0m/   LICENSE                   setup.cfg         tox.ini\n"
          ]
        }
      ]
    },
    {
      "cell_type": "markdown",
      "metadata": {
        "id": "kOK908ACfvWj"
      },
      "source": [
        "Install the face-alignment requirements"
      ]
    },
    {
      "cell_type": "code",
      "metadata": {
        "id": "F4Fx8611E3bv",
        "colab": {
          "base_uri": "https://localhost:8080/"
        },
        "outputId": "ef1fb1e2-9bd7-48ed-d6c8-52a1a29f3f49"
      },
      "source": [
        "!pip install -r requirements.txt"
      ],
      "execution_count": null,
      "outputs": [
        {
          "output_type": "stream",
          "name": "stdout",
          "text": [
            "Looking in indexes: https://pypi.org/simple, https://us-python.pkg.dev/colab-wheels/public/simple/\n",
            "Requirement already satisfied: opencv-python in /usr/local/lib/python3.7/dist-packages (from -r requirements.txt (line 1)) (4.6.0.66)\n",
            "Requirement already satisfied: scipy>=0.17.0 in /usr/local/lib/python3.7/dist-packages (from -r requirements.txt (line 2)) (1.7.3)\n",
            "Requirement already satisfied: scikit-image in /usr/local/lib/python3.7/dist-packages (from -r requirements.txt (line 3)) (0.18.3)\n",
            "Requirement already satisfied: numba in /usr/local/lib/python3.7/dist-packages (from -r requirements.txt (line 4)) (0.56.2)\n",
            "Requirement already satisfied: numpy<1.23.0,>=1.16.5 in /usr/local/lib/python3.7/dist-packages (from scipy>=0.17.0->-r requirements.txt (line 2)) (1.21.6)\n",
            "Requirement already satisfied: PyWavelets>=1.1.1 in /usr/local/lib/python3.7/dist-packages (from scikit-image->-r requirements.txt (line 3)) (1.3.0)\n",
            "Requirement already satisfied: tifffile>=2019.7.26 in /usr/local/lib/python3.7/dist-packages (from scikit-image->-r requirements.txt (line 3)) (2021.11.2)\n",
            "Requirement already satisfied: pillow!=7.1.0,!=7.1.1,>=4.3.0 in /usr/local/lib/python3.7/dist-packages (from scikit-image->-r requirements.txt (line 3)) (7.1.2)\n",
            "Requirement already satisfied: imageio>=2.3.0 in /usr/local/lib/python3.7/dist-packages (from scikit-image->-r requirements.txt (line 3)) (2.9.0)\n",
            "Requirement already satisfied: matplotlib!=3.0.0,>=2.0.0 in /usr/local/lib/python3.7/dist-packages (from scikit-image->-r requirements.txt (line 3)) (3.2.2)\n",
            "Requirement already satisfied: networkx>=2.0 in /usr/local/lib/python3.7/dist-packages (from scikit-image->-r requirements.txt (line 3)) (2.6.3)\n",
            "Requirement already satisfied: pyparsing!=2.0.4,!=2.1.2,!=2.1.6,>=2.0.1 in /usr/local/lib/python3.7/dist-packages (from matplotlib!=3.0.0,>=2.0.0->scikit-image->-r requirements.txt (line 3)) (3.0.9)\n",
            "Requirement already satisfied: kiwisolver>=1.0.1 in /usr/local/lib/python3.7/dist-packages (from matplotlib!=3.0.0,>=2.0.0->scikit-image->-r requirements.txt (line 3)) (1.4.4)\n",
            "Requirement already satisfied: cycler>=0.10 in /usr/local/lib/python3.7/dist-packages (from matplotlib!=3.0.0,>=2.0.0->scikit-image->-r requirements.txt (line 3)) (0.11.0)\n",
            "Requirement already satisfied: python-dateutil>=2.1 in /usr/local/lib/python3.7/dist-packages (from matplotlib!=3.0.0,>=2.0.0->scikit-image->-r requirements.txt (line 3)) (2.8.2)\n",
            "Requirement already satisfied: typing-extensions in /usr/local/lib/python3.7/dist-packages (from kiwisolver>=1.0.1->matplotlib!=3.0.0,>=2.0.0->scikit-image->-r requirements.txt (line 3)) (4.1.1)\n",
            "Requirement already satisfied: six>=1.5 in /usr/local/lib/python3.7/dist-packages (from python-dateutil>=2.1->matplotlib!=3.0.0,>=2.0.0->scikit-image->-r requirements.txt (line 3)) (1.15.0)\n",
            "Requirement already satisfied: setuptools<60 in /usr/local/lib/python3.7/dist-packages (from numba->-r requirements.txt (line 4)) (57.4.0)\n",
            "Requirement already satisfied: llvmlite<0.40,>=0.39.0dev0 in /usr/local/lib/python3.7/dist-packages (from numba->-r requirements.txt (line 4)) (0.39.1)\n",
            "Requirement already satisfied: importlib-metadata in /usr/local/lib/python3.7/dist-packages (from numba->-r requirements.txt (line 4)) (4.12.0)\n",
            "Requirement already satisfied: zipp>=0.5 in /usr/local/lib/python3.7/dist-packages (from importlib-metadata->numba->-r requirements.txt (line 4)) (3.8.1)\n"
          ]
        }
      ]
    },
    {
      "cell_type": "code",
      "source": [
        "!cd .."
      ],
      "metadata": {
        "id": "sM3mzQXSoD3q"
      },
      "execution_count": null,
      "outputs": []
    },
    {
      "cell_type": "code",
      "source": [
        "!pwd"
      ],
      "metadata": {
        "id": "b_lXUzOnpRum",
        "outputId": "2f37d51b-c54f-4df6-bdaf-fb69b8a1d7bd",
        "colab": {
          "base_uri": "https://localhost:8080/"
        }
      },
      "execution_count": null,
      "outputs": [
        {
          "output_type": "stream",
          "name": "stdout",
          "text": [
            "/content/gdrive/MyDrive/deepfake/first-order-model/face-alignment\n"
          ]
        }
      ]
    },
    {
      "cell_type": "code",
      "source": [
        "!ls"
      ],
      "metadata": {
        "id": "lGOzf6Fnpd0B",
        "outputId": "f1755c27-ee1c-46d3-bbbb-f85e4aa2a663",
        "colab": {
          "base_uri": "https://localhost:8080/"
        }
      },
      "execution_count": null,
      "outputs": [
        {
          "output_type": "stream",
          "name": "stdout",
          "text": [
            "build  Dockerfile  face_alignment\t    README.md\t      setup.py\n",
            "conda  docs\t   face_alignment.egg-info  requirements.txt  test\n",
            "dist   examples    LICENSE\t\t    setup.cfg\t      tox.ini\n"
          ]
        }
      ]
    },
    {
      "cell_type": "code",
      "source": [
        "%cd /content/gdrive/MyDrive/deepfake/first-order-model"
      ],
      "metadata": {
        "id": "jSGAb242uvul",
        "outputId": "887fe500-83cf-4b22-89ed-a6be1891065a",
        "colab": {
          "base_uri": "https://localhost:8080/"
        }
      },
      "execution_count": null,
      "outputs": [
        {
          "output_type": "stream",
          "name": "stdout",
          "text": [
            "/content/gdrive/MyDrive/deepfake/first-order-model\n"
          ]
        }
      ]
    },
    {
      "cell_type": "code",
      "source": [
        "!ls"
      ],
      "metadata": {
        "id": "pfGenyPuu3G1",
        "outputId": "32963d06-ea09-4d87-eef1-113a4eafd253",
        "colab": {
          "base_uri": "https://localhost:8080/"
        }
      },
      "execution_count": null,
      "outputs": [
        {
          "output_type": "stream",
          "name": "stdout",
          "text": [
            "animate.py\t demo.py\t     logger.py\t\trun.py\n",
            "augmentation.py  Dockerfile\t     modules\t\tsup-mat\n",
            "config\t\t face-alignment      old_demo.ipynb\tsync_batchnorm\n",
            "crop-video.py\t frames_dataset.py   README.md\t\ttrain.py\n",
            "data\t\t intro_deepFake.mp4  reconstruction.py\n",
            "demo.ipynb\t LICENSE.md\t     requirements.txt\n"
          ]
        }
      ]
    },
    {
      "cell_type": "code",
      "source": [
        "%cd /content/gdrive/MyDrive/deepfake/first-order-model/face-alignment"
      ],
      "metadata": {
        "id": "ZxzHoaIkwzTP",
        "outputId": "2bcfc3a7-d787-4629-bf15-4fdb04eaa7f0",
        "colab": {
          "base_uri": "https://localhost:8080/"
        }
      },
      "execution_count": null,
      "outputs": [
        {
          "output_type": "stream",
          "name": "stdout",
          "text": [
            "/content/gdrive/MyDrive/deepfake/first-order-model/face-alignment\n"
          ]
        }
      ]
    },
    {
      "cell_type": "code",
      "source": [
        "!python setup.py install"
      ],
      "metadata": {
        "id": "MBYm3tfUw9Fv",
        "outputId": "0a4fe1b1-104e-4876-f129-a7ddd1109914",
        "colab": {
          "base_uri": "https://localhost:8080/"
        }
      },
      "execution_count": null,
      "outputs": [
        {
          "output_type": "stream",
          "name": "stdout",
          "text": [
            "running install\n",
            "running bdist_egg\n",
            "running egg_info\n",
            "writing face_alignment.egg-info/PKG-INFO\n",
            "writing dependency_links to face_alignment.egg-info/dependency_links.txt\n",
            "writing requirements to face_alignment.egg-info/requires.txt\n",
            "writing top-level names to face_alignment.egg-info/top_level.txt\n",
            "adding license file 'LICENSE'\n",
            "writing manifest file 'face_alignment.egg-info/SOURCES.txt'\n",
            "installing library code to build/bdist.linux-x86_64/egg\n",
            "running install_lib\n",
            "running build_py\n",
            "creating build/bdist.linux-x86_64/egg\n",
            "creating build/bdist.linux-x86_64/egg/face_alignment\n",
            "copying build/lib/face_alignment/api.py -> build/bdist.linux-x86_64/egg/face_alignment\n",
            "copying build/lib/face_alignment/utils.py -> build/bdist.linux-x86_64/egg/face_alignment\n",
            "copying build/lib/face_alignment/__init__.py -> build/bdist.linux-x86_64/egg/face_alignment\n",
            "creating build/bdist.linux-x86_64/egg/face_alignment/detection\n",
            "copying build/lib/face_alignment/detection/core.py -> build/bdist.linux-x86_64/egg/face_alignment/detection\n",
            "copying build/lib/face_alignment/detection/__init__.py -> build/bdist.linux-x86_64/egg/face_alignment/detection\n",
            "creating build/bdist.linux-x86_64/egg/face_alignment/detection/blazeface\n",
            "copying build/lib/face_alignment/detection/blazeface/blazeface_detector.py -> build/bdist.linux-x86_64/egg/face_alignment/detection/blazeface\n",
            "copying build/lib/face_alignment/detection/blazeface/utils.py -> build/bdist.linux-x86_64/egg/face_alignment/detection/blazeface\n",
            "copying build/lib/face_alignment/detection/blazeface/net_blazeface.py -> build/bdist.linux-x86_64/egg/face_alignment/detection/blazeface\n",
            "copying build/lib/face_alignment/detection/blazeface/__init__.py -> build/bdist.linux-x86_64/egg/face_alignment/detection/blazeface\n",
            "copying build/lib/face_alignment/detection/blazeface/detect.py -> build/bdist.linux-x86_64/egg/face_alignment/detection/blazeface\n",
            "creating build/bdist.linux-x86_64/egg/face_alignment/detection/dlib\n",
            "copying build/lib/face_alignment/detection/dlib/__init__.py -> build/bdist.linux-x86_64/egg/face_alignment/detection/dlib\n",
            "copying build/lib/face_alignment/detection/dlib/dlib_detector.py -> build/bdist.linux-x86_64/egg/face_alignment/detection/dlib\n",
            "creating build/bdist.linux-x86_64/egg/face_alignment/detection/folder\n",
            "copying build/lib/face_alignment/detection/folder/__init__.py -> build/bdist.linux-x86_64/egg/face_alignment/detection/folder\n",
            "copying build/lib/face_alignment/detection/folder/folder_detector.py -> build/bdist.linux-x86_64/egg/face_alignment/detection/folder\n",
            "creating build/bdist.linux-x86_64/egg/face_alignment/detection/sfd\n",
            "copying build/lib/face_alignment/detection/sfd/net_s3fd.py -> build/bdist.linux-x86_64/egg/face_alignment/detection/sfd\n",
            "copying build/lib/face_alignment/detection/sfd/detect.py -> build/bdist.linux-x86_64/egg/face_alignment/detection/sfd\n",
            "copying build/lib/face_alignment/detection/sfd/sfd_detector.py -> build/bdist.linux-x86_64/egg/face_alignment/detection/sfd\n",
            "copying build/lib/face_alignment/detection/sfd/bbox.py -> build/bdist.linux-x86_64/egg/face_alignment/detection/sfd\n",
            "copying build/lib/face_alignment/detection/sfd/__init__.py -> build/bdist.linux-x86_64/egg/face_alignment/detection/sfd\n",
            "byte-compiling build/bdist.linux-x86_64/egg/face_alignment/api.py to api.cpython-37.pyc\n",
            "byte-compiling build/bdist.linux-x86_64/egg/face_alignment/utils.py to utils.cpython-37.pyc\n",
            "byte-compiling build/bdist.linux-x86_64/egg/face_alignment/__init__.py to __init__.cpython-37.pyc\n",
            "byte-compiling build/bdist.linux-x86_64/egg/face_alignment/detection/core.py to core.cpython-37.pyc\n",
            "byte-compiling build/bdist.linux-x86_64/egg/face_alignment/detection/__init__.py to __init__.cpython-37.pyc\n",
            "byte-compiling build/bdist.linux-x86_64/egg/face_alignment/detection/blazeface/blazeface_detector.py to blazeface_detector.cpython-37.pyc\n",
            "byte-compiling build/bdist.linux-x86_64/egg/face_alignment/detection/blazeface/utils.py to utils.cpython-37.pyc\n",
            "byte-compiling build/bdist.linux-x86_64/egg/face_alignment/detection/blazeface/net_blazeface.py to net_blazeface.cpython-37.pyc\n",
            "byte-compiling build/bdist.linux-x86_64/egg/face_alignment/detection/blazeface/__init__.py to __init__.cpython-37.pyc\n",
            "byte-compiling build/bdist.linux-x86_64/egg/face_alignment/detection/blazeface/detect.py to detect.cpython-37.pyc\n",
            "byte-compiling build/bdist.linux-x86_64/egg/face_alignment/detection/dlib/__init__.py to __init__.cpython-37.pyc\n",
            "byte-compiling build/bdist.linux-x86_64/egg/face_alignment/detection/dlib/dlib_detector.py to dlib_detector.cpython-37.pyc\n",
            "byte-compiling build/bdist.linux-x86_64/egg/face_alignment/detection/folder/__init__.py to __init__.cpython-37.pyc\n",
            "byte-compiling build/bdist.linux-x86_64/egg/face_alignment/detection/folder/folder_detector.py to folder_detector.cpython-37.pyc\n",
            "byte-compiling build/bdist.linux-x86_64/egg/face_alignment/detection/sfd/net_s3fd.py to net_s3fd.cpython-37.pyc\n",
            "byte-compiling build/bdist.linux-x86_64/egg/face_alignment/detection/sfd/detect.py to detect.cpython-37.pyc\n",
            "byte-compiling build/bdist.linux-x86_64/egg/face_alignment/detection/sfd/sfd_detector.py to sfd_detector.cpython-37.pyc\n",
            "byte-compiling build/bdist.linux-x86_64/egg/face_alignment/detection/sfd/bbox.py to bbox.cpython-37.pyc\n",
            "byte-compiling build/bdist.linux-x86_64/egg/face_alignment/detection/sfd/__init__.py to __init__.cpython-37.pyc\n",
            "creating build/bdist.linux-x86_64/egg/EGG-INFO\n",
            "copying face_alignment.egg-info/PKG-INFO -> build/bdist.linux-x86_64/egg/EGG-INFO\n",
            "copying face_alignment.egg-info/SOURCES.txt -> build/bdist.linux-x86_64/egg/EGG-INFO\n",
            "copying face_alignment.egg-info/dependency_links.txt -> build/bdist.linux-x86_64/egg/EGG-INFO\n",
            "copying face_alignment.egg-info/requires.txt -> build/bdist.linux-x86_64/egg/EGG-INFO\n",
            "copying face_alignment.egg-info/top_level.txt -> build/bdist.linux-x86_64/egg/EGG-INFO\n",
            "copying face_alignment.egg-info/zip-safe -> build/bdist.linux-x86_64/egg/EGG-INFO\n",
            "creating 'dist/face_alignment-1.3.4-py3.7.egg' and adding 'build/bdist.linux-x86_64/egg' to it\n",
            "removing 'build/bdist.linux-x86_64/egg' (and everything under it)\n",
            "Processing face_alignment-1.3.4-py3.7.egg\n",
            "Copying face_alignment-1.3.4-py3.7.egg to /usr/local/lib/python3.7/dist-packages\n",
            "Adding face-alignment 1.3.4 to easy-install.pth file\n",
            "\n",
            "Installed /usr/local/lib/python3.7/dist-packages/face_alignment-1.3.4-py3.7.egg\n",
            "Processing dependencies for face-alignment==1.3.4\n",
            "Searching for numba==0.56.2\n",
            "Best match: numba 0.56.2\n",
            "Adding numba 0.56.2 to easy-install.pth file\n",
            "\n",
            "Using /usr/local/lib/python3.7/dist-packages\n",
            "Searching for tqdm==4.64.1\n",
            "Best match: tqdm 4.64.1\n",
            "Adding tqdm 4.64.1 to easy-install.pth file\n",
            "Installing tqdm script to /usr/local/bin\n",
            "\n",
            "Using /usr/local/lib/python3.7/dist-packages\n",
            "Searching for opencv-python==4.6.0.66\n",
            "Best match: opencv-python 4.6.0.66\n",
            "Adding opencv-python 4.6.0.66 to easy-install.pth file\n",
            "\n",
            "Using /usr/local/lib/python3.7/dist-packages\n",
            "Searching for scikit-image==0.18.3\n",
            "Best match: scikit-image 0.18.3\n",
            "Adding scikit-image 0.18.3 to easy-install.pth file\n",
            "Installing skivi script to /usr/local/bin\n",
            "\n",
            "Using /usr/local/lib/python3.7/dist-packages\n",
            "Searching for scipy==1.7.3\n",
            "Best match: scipy 1.7.3\n",
            "Adding scipy 1.7.3 to easy-install.pth file\n",
            "\n",
            "Using /usr/local/lib/python3.7/dist-packages\n",
            "Searching for numpy==1.21.6\n",
            "Best match: numpy 1.21.6\n",
            "Adding numpy 1.21.6 to easy-install.pth file\n",
            "Installing f2py script to /usr/local/bin\n",
            "Installing f2py3 script to /usr/local/bin\n",
            "Installing f2py3.7 script to /usr/local/bin\n",
            "\n",
            "Using /usr/local/lib/python3.7/dist-packages\n",
            "Searching for torch==1.12.1+cu113\n",
            "Best match: torch 1.12.1+cu113\n",
            "Adding torch 1.12.1+cu113 to easy-install.pth file\n",
            "Installing convert-caffe2-to-onnx script to /usr/local/bin\n",
            "Installing convert-onnx-to-caffe2 script to /usr/local/bin\n",
            "Installing torchrun script to /usr/local/bin\n",
            "\n",
            "Using /usr/local/lib/python3.7/dist-packages\n",
            "Searching for llvmlite==0.39.1\n",
            "Best match: llvmlite 0.39.1\n",
            "Adding llvmlite 0.39.1 to easy-install.pth file\n",
            "\n",
            "Using /usr/local/lib/python3.7/dist-packages\n",
            "Searching for importlib-metadata==4.12.0\n",
            "Best match: importlib-metadata 4.12.0\n",
            "Adding importlib-metadata 4.12.0 to easy-install.pth file\n",
            "\n",
            "Using /usr/local/lib/python3.7/dist-packages\n",
            "Searching for setuptools==57.4.0\n",
            "Best match: setuptools 57.4.0\n",
            "Adding setuptools 57.4.0 to easy-install.pth file\n",
            "\n",
            "Using /usr/local/lib/python3.7/dist-packages\n",
            "Searching for imageio==2.9.0\n",
            "Best match: imageio 2.9.0\n",
            "Adding imageio 2.9.0 to easy-install.pth file\n",
            "Installing imageio_download_bin script to /usr/local/bin\n",
            "Installing imageio_remove_bin script to /usr/local/bin\n",
            "\n",
            "Using /usr/local/lib/python3.7/dist-packages\n",
            "Searching for PyWavelets==1.3.0\n",
            "Best match: PyWavelets 1.3.0\n",
            "Adding PyWavelets 1.3.0 to easy-install.pth file\n",
            "\n",
            "Using /usr/local/lib/python3.7/dist-packages\n",
            "Searching for networkx==2.6.3\n",
            "Best match: networkx 2.6.3\n",
            "Adding networkx 2.6.3 to easy-install.pth file\n",
            "\n",
            "Using /usr/local/lib/python3.7/dist-packages\n",
            "Searching for matplotlib==3.2.2\n",
            "Best match: matplotlib 3.2.2\n",
            "Adding matplotlib 3.2.2 to easy-install.pth file\n",
            "\n",
            "Using /usr/local/lib/python3.7/dist-packages\n",
            "Searching for tifffile==2021.11.2\n",
            "Best match: tifffile 2021.11.2\n",
            "Adding tifffile 2021.11.2 to easy-install.pth file\n",
            "Installing lsm2bin script to /usr/local/bin\n",
            "Installing tiff2fsspec script to /usr/local/bin\n",
            "Installing tiffcomment script to /usr/local/bin\n",
            "Installing tifffile script to /usr/local/bin\n",
            "\n",
            "Using /usr/local/lib/python3.7/dist-packages\n",
            "Searching for Pillow==7.1.2\n",
            "Best match: Pillow 7.1.2\n",
            "Adding Pillow 7.1.2 to easy-install.pth file\n",
            "\n",
            "Using /usr/local/lib/python3.7/dist-packages\n",
            "Searching for typing-extensions==4.1.1\n",
            "Best match: typing-extensions 4.1.1\n",
            "Adding typing-extensions 4.1.1 to easy-install.pth file\n",
            "\n",
            "Using /usr/local/lib/python3.7/dist-packages\n",
            "Searching for zipp==3.8.1\n",
            "Best match: zipp 3.8.1\n",
            "Adding zipp 3.8.1 to easy-install.pth file\n",
            "\n",
            "Using /usr/local/lib/python3.7/dist-packages\n",
            "Searching for python-dateutil==2.8.2\n",
            "Best match: python-dateutil 2.8.2\n",
            "Adding python-dateutil 2.8.2 to easy-install.pth file\n",
            "\n",
            "Using /usr/local/lib/python3.7/dist-packages\n",
            "Searching for kiwisolver==1.4.4\n",
            "Best match: kiwisolver 1.4.4\n",
            "Adding kiwisolver 1.4.4 to easy-install.pth file\n",
            "\n",
            "Using /usr/local/lib/python3.7/dist-packages\n",
            "Searching for pyparsing==3.0.9\n",
            "Best match: pyparsing 3.0.9\n",
            "Adding pyparsing 3.0.9 to easy-install.pth file\n",
            "\n",
            "Using /usr/local/lib/python3.7/dist-packages\n",
            "Searching for cycler==0.11.0\n",
            "Best match: cycler 0.11.0\n",
            "Adding cycler 0.11.0 to easy-install.pth file\n",
            "\n",
            "Using /usr/local/lib/python3.7/dist-packages\n",
            "Searching for six==1.15.0\n",
            "Best match: six 1.15.0\n",
            "Adding six 1.15.0 to easy-install.pth file\n",
            "\n",
            "Using /usr/local/lib/python3.7/dist-packages\n",
            "Finished processing dependencies for face-alignment==1.3.4\n"
          ]
        }
      ]
    },
    {
      "cell_type": "code",
      "source": [
        "%cd .."
      ],
      "metadata": {
        "id": "LSwI6WmOxVVj",
        "outputId": "3a6500bc-3cd9-4c9f-877b-5a608f5f6562",
        "colab": {
          "base_uri": "https://localhost:8080/"
        }
      },
      "execution_count": null,
      "outputs": [
        {
          "output_type": "stream",
          "name": "stdout",
          "text": [
            "/content/gdrive/MyDrive/deepfake/first-order-model\n"
          ]
        }
      ]
    },
    {
      "cell_type": "code",
      "source": [
        "!ls"
      ],
      "metadata": {
        "colab": {
          "base_uri": "https://localhost:8080/"
        },
        "id": "pDwVd2204tBL",
        "outputId": "18b96871-98a3-4162-d432-4a4c3c8dcd0b"
      },
      "execution_count": null,
      "outputs": [
        {
          "output_type": "stream",
          "name": "stdout",
          "text": [
            "animate.py\t demo.py\t     logger.py\t\trun.py\n",
            "augmentation.py  Dockerfile\t     modules\t\tsup-mat\n",
            "config\t\t face-alignment      old_demo.ipynb\tsync_batchnorm\n",
            "crop-video.py\t frames_dataset.py   README.md\t\ttrain.py\n",
            "data\t\t intro_deepFake.mp4  reconstruction.py\n",
            "demo.ipynb\t LICENSE.md\t     requirements.txt\n"
          ]
        }
      ]
    },
    {
      "cell_type": "markdown",
      "metadata": {
        "id": "zLyvghwvf3te"
      },
      "source": [
        "Install **Face-Alignment** module"
      ]
    },
    {
      "cell_type": "markdown",
      "metadata": {
        "id": "VsgVK1EURXkd"
      },
      "source": [
        "Pre-trained models and croped videos and pictures are on this **link**\n",
        "\n",
        "**Add folder https://drive.google.com/drive/folders/1kZ1gCnpfU0BnpdU47pLM_TQ6RypDDqgw?usp=sharing  to your google drive.**"
      ]
    },
    {
      "cell_type": "markdown",
      "metadata": {
        "id": "7MArwWVAgEZ5"
      },
      "source": [
        "Crop the your video if it is not croped already"
      ]
    },
    {
      "cell_type": "code",
      "source": [
        "!pip install imageio-ffmpeg"
      ],
      "metadata": {
        "colab": {
          "base_uri": "https://localhost:8080/"
        },
        "id": "tcIp3oSzSCER",
        "outputId": "a3d65355-4da2-4b85-a7a2-4fe91435a0cb"
      },
      "execution_count": null,
      "outputs": [
        {
          "output_type": "stream",
          "name": "stdout",
          "text": [
            "Looking in indexes: https://pypi.org/simple, https://us-python.pkg.dev/colab-wheels/public/simple/\n",
            "Collecting imageio-ffmpeg\n",
            "  Downloading imageio_ffmpeg-0.4.7-py3-none-manylinux2010_x86_64.whl (26.9 MB)\n",
            "\u001b[K     |████████████████████████████████| 26.9 MB 1.4 MB/s \n",
            "\u001b[?25hInstalling collected packages: imageio-ffmpeg\n",
            "Successfully installed imageio-ffmpeg-0.4.7\n"
          ]
        }
      ]
    },
    {
      "cell_type": "code",
      "metadata": {
        "id": "pgeH8_C_Os1L",
        "colab": {
          "base_uri": "https://localhost:8080/"
        },
        "outputId": "c9582891-4ef1-43aa-8295-e0d6688cafdc"
      },
      "source": [
        "!python crop-video.py --inp intro_deepFake.mp4"
      ],
      "execution_count": null,
      "outputs": [
        {
          "output_type": "stream",
          "name": "stdout",
          "text": [
            "1253it [00:25, 48.50it/s]\n",
            "ffmpeg -i intro_deepFake.mp4 -ss 0.0 -t 34.0 -filter:v \"crop=170:170:218:8, scale=256:256\" crop.mp4\n"
          ]
        }
      ]
    },
    {
      "cell_type": "markdown",
      "metadata": {
        "id": "_FGs5nZ2gTdC"
      },
      "source": [
        "croping video will generate a **command** copy paste in ipython notebook shell"
      ]
    },
    {
      "cell_type": "code",
      "metadata": {
        "id": "r6DyJyVKP8ZW",
        "colab": {
          "base_uri": "https://localhost:8080/"
        },
        "outputId": "a6ed5232-aeac-44da-e27c-f668af7517eb"
      },
      "source": [
        "!ffmpeg -i intro_deepFake.mp4 -ss 0.0 -t 34.0 -filter:v \"crop=170:170:218:8, scale=256:256\" crop.mp4"
      ],
      "execution_count": null,
      "outputs": [
        {
          "output_type": "stream",
          "name": "stdout",
          "text": [
            "ffmpeg version 3.4.11-0ubuntu0.1 Copyright (c) 2000-2022 the FFmpeg developers\n",
            "  built with gcc 7 (Ubuntu 7.5.0-3ubuntu1~18.04)\n",
            "  configuration: --prefix=/usr --extra-version=0ubuntu0.1 --toolchain=hardened --libdir=/usr/lib/x86_64-linux-gnu --incdir=/usr/include/x86_64-linux-gnu --enable-gpl --disable-stripping --enable-avresample --enable-avisynth --enable-gnutls --enable-ladspa --enable-libass --enable-libbluray --enable-libbs2b --enable-libcaca --enable-libcdio --enable-libflite --enable-libfontconfig --enable-libfreetype --enable-libfribidi --enable-libgme --enable-libgsm --enable-libmp3lame --enable-libmysofa --enable-libopenjpeg --enable-libopenmpt --enable-libopus --enable-libpulse --enable-librubberband --enable-librsvg --enable-libshine --enable-libsnappy --enable-libsoxr --enable-libspeex --enable-libssh --enable-libtheora --enable-libtwolame --enable-libvorbis --enable-libvpx --enable-libwavpack --enable-libwebp --enable-libx265 --enable-libxml2 --enable-libxvid --enable-libzmq --enable-libzvbi --enable-omx --enable-openal --enable-opengl --enable-sdl2 --enable-libdc1394 --enable-libdrm --enable-libiec61883 --enable-chromaprint --enable-frei0r --enable-libopencv --enable-libx264 --enable-shared\n",
            "  libavutil      55. 78.100 / 55. 78.100\n",
            "  libavcodec     57.107.100 / 57.107.100\n",
            "  libavformat    57. 83.100 / 57. 83.100\n",
            "  libavdevice    57. 10.100 / 57. 10.100\n",
            "  libavfilter     6.107.100 /  6.107.100\n",
            "  libavresample   3.  7.  0 /  3.  7.  0\n",
            "  libswscale      4.  8.100 /  4.  8.100\n",
            "  libswresample   2.  9.100 /  2.  9.100\n",
            "  libpostproc    54.  7.100 / 54.  7.100\n",
            "Input #0, mov,mp4,m4a,3gp,3g2,mj2, from 'intro_deepFake.mp4':\n",
            "  Metadata:\n",
            "    major_brand     : mp42\n",
            "    minor_version   : 0\n",
            "    compatible_brands: mp42isom\n",
            "  Duration: 00:00:52.27, start: 0.000000, bitrate: 1497 kb/s\n",
            "    Stream #0:0(und): Video: h264 (High) (avc1 / 0x31637661), yuv420p(tv, unknown/bt470bg/unknown), 640x352, 1368 kb/s, 24 fps, 24 tbr, 12288 tbn, 24576 tbc (default)\n",
            "    Stream #0:1(und): Audio: aac (LC) (mp4a / 0x6134706D), 44100 Hz, stereo, fltp, 128 kb/s (default)\n",
            "Stream mapping:\n",
            "  Stream #0:0 -> #0:0 (h264 (native) -> h264 (libx264))\n",
            "  Stream #0:1 -> #0:1 (aac (native) -> aac (native))\n",
            "Press [q] to stop, [?] for help\n",
            "\u001b[1;34m[swscaler @ 0x559e36674000] \u001b[0m\u001b[0;33mWarning: data is not aligned! This can lead to a speed loss\n",
            "\u001b[0m\u001b[1;36m[libx264 @ 0x559e363fc800] \u001b[0musing cpu capabilities: MMX2 SSE2Fast SSSE3 SSE4.2 AVX FMA3 BMI2 AVX2\n",
            "\u001b[1;36m[libx264 @ 0x559e363fc800] \u001b[0mprofile High, level 1.3\n",
            "\u001b[1;36m[libx264 @ 0x559e363fc800] \u001b[0m264 - core 152 r2854 e9a5903 - H.264/MPEG-4 AVC codec - Copyleft 2003-2017 - http://www.videolan.org/x264.html - options: cabac=1 ref=3 deblock=1:0:0 analyse=0x3:0x113 me=hex subme=7 psy=1 psy_rd=1.00:0.00 mixed_ref=1 me_range=16 chroma_me=1 trellis=1 8x8dct=1 cqm=0 deadzone=21,11 fast_pskip=1 chroma_qp_offset=-2 threads=3 lookahead_threads=1 sliced_threads=0 nr=0 decimate=1 interlaced=0 bluray_compat=0 constrained_intra=0 bframes=3 b_pyramid=2 b_adapt=1 b_bias=0 direct=1 weightb=1 open_gop=0 weightp=2 keyint=250 keyint_min=24 scenecut=40 intra_refresh=0 rc_lookahead=40 rc=crf mbtree=1 crf=23.0 qcomp=0.60 qpmin=0 qpmax=69 qpstep=4 ip_ratio=1.40 aq=1:1.00\n",
            "Output #0, mp4, to 'crop.mp4':\n",
            "  Metadata:\n",
            "    major_brand     : mp42\n",
            "    minor_version   : 0\n",
            "    compatible_brands: mp42isom\n",
            "    encoder         : Lavf57.83.100\n",
            "    Stream #0:0(und): Video: h264 (libx264) (avc1 / 0x31637661), yuv420p(progressive), 256x256, q=-1--1, 24 fps, 12288 tbn, 24 tbc (default)\n",
            "    Metadata:\n",
            "      encoder         : Lavc57.107.100 libx264\n",
            "    Side data:\n",
            "      cpb: bitrate max/min/avg: 0/0/0 buffer size: 0 vbv_delay: -1\n",
            "    Stream #0:1(und): Audio: aac (LC) (mp4a / 0x6134706D), 44100 Hz, stereo, fltp, 128 kb/s (default)\n",
            "    Metadata:\n",
            "      encoder         : Lavc57.107.100 aac\n",
            "frame=  816 fps=142 q=-1.0 Lsize=    1400kB time=00:00:34.01 bitrate= 337.1kbits/s speed=5.93x    \n",
            "video:828kB audio:545kB subtitle:0kB other streams:0kB global headers:0kB muxing overhead: 1.937887%\n",
            "\u001b[1;36m[libx264 @ 0x559e363fc800] \u001b[0mframe I:4     Avg QP:22.25  size:  7130\n",
            "\u001b[1;36m[libx264 @ 0x559e363fc800] \u001b[0mframe P:256   Avg QP:24.52  size:  2275\n",
            "\u001b[1;36m[libx264 @ 0x559e363fc800] \u001b[0mframe B:556   Avg QP:29.06  size:   425\n",
            "\u001b[1;36m[libx264 @ 0x559e363fc800] \u001b[0mconsecutive B-frames:  7.8%  2.2%  5.1% 84.8%\n",
            "\u001b[1;36m[libx264 @ 0x559e363fc800] \u001b[0mmb I  I16..4:  4.9% 65.7% 29.4%\n",
            "\u001b[1;36m[libx264 @ 0x559e363fc800] \u001b[0mmb P  I16..4:  0.6%  3.5%  1.1%  P16..4: 42.3% 28.5% 15.0%  0.0%  0.0%    skip: 9.1%\n",
            "\u001b[1;36m[libx264 @ 0x559e363fc800] \u001b[0mmb B  I16..4:  0.0%  0.1%  0.0%  B16..8: 43.0%  7.3%  1.3%  direct: 1.7%  skip:46.6%  L0:36.5% L1:50.4% BI:13.0%\n",
            "\u001b[1;36m[libx264 @ 0x559e363fc800] \u001b[0m8x8 transform intra:66.7% inter:68.1%\n",
            "\u001b[1;36m[libx264 @ 0x559e363fc800] \u001b[0mcoded y,uvDC,uvAC intra: 77.7% 83.9% 42.6% inter: 19.4% 13.7% 0.4%\n",
            "\u001b[1;36m[libx264 @ 0x559e363fc800] \u001b[0mi16 v,h,dc,p: 20% 42%  9% 30%\n",
            "\u001b[1;36m[libx264 @ 0x559e363fc800] \u001b[0mi8 v,h,dc,ddl,ddr,vr,hd,vl,hu: 23% 19% 11%  5%  8% 11%  9%  7%  8%\n",
            "\u001b[1;36m[libx264 @ 0x559e363fc800] \u001b[0mi4 v,h,dc,ddl,ddr,vr,hd,vl,hu: 26% 24% 11%  5%  8%  9%  7%  6%  4%\n",
            "\u001b[1;36m[libx264 @ 0x559e363fc800] \u001b[0mi8c dc,h,v,p: 36% 16% 30% 17%\n",
            "\u001b[1;36m[libx264 @ 0x559e363fc800] \u001b[0mWeighted P-Frames: Y:7.0% UV:0.4%\n",
            "\u001b[1;36m[libx264 @ 0x559e363fc800] \u001b[0mref P L0: 63.2% 18.7% 13.6%  4.3%  0.2%\n",
            "\u001b[1;36m[libx264 @ 0x559e363fc800] \u001b[0mref B L0: 94.7%  4.5%  0.8%\n",
            "\u001b[1;36m[libx264 @ 0x559e363fc800] \u001b[0mref B L1: 98.5%  1.5%\n",
            "\u001b[1;36m[libx264 @ 0x559e363fc800] \u001b[0mkb/s:199.36\n",
            "\u001b[1;36m[aac @ 0x559e363fd700] \u001b[0mQavg: 868.430\n"
          ]
        }
      ]
    },
    {
      "cell_type": "code",
      "metadata": {
        "id": "fbFc1Hq6-nfc",
        "colab": {
          "base_uri": "https://localhost:8080/",
          "height": 357
        },
        "outputId": "62f1ccea-6a27-4743-c42a-9362c350136a"
      },
      "source": [
        "!nvidia-smi"
      ],
      "execution_count": null,
      "outputs": [
        {
          "output_type": "stream",
          "text": [
            "Tue Jun 23 21:00:01 2020       \n",
            "+-----------------------------------------------------------------------------+\n",
            "| NVIDIA-SMI 450.36.06    Driver Version: 418.67       CUDA Version: 10.1     |\n",
            "|-------------------------------+----------------------+----------------------+\n",
            "| GPU  Name        Persistence-M| Bus-Id        Disp.A | Volatile Uncorr. ECC |\n",
            "| Fan  Temp  Perf  Pwr:Usage/Cap|         Memory-Usage | GPU-Util  Compute M. |\n",
            "|                               |                      |               MIG M. |\n",
            "|===============================+======================+======================|\n",
            "|   0  Tesla T4            Off  | 00000000:00:04.0 Off |                    0 |\n",
            "| N/A   48C    P8    12W /  70W |      0MiB / 15079MiB |      0%      Default |\n",
            "|                               |                      |                 ERR! |\n",
            "+-------------------------------+----------------------+----------------------+\n",
            "                                                                               \n",
            "+-----------------------------------------------------------------------------+\n",
            "| Processes:                                                                  |\n",
            "|  GPU   GI   CI        PID   Type   Process name                  GPU Memory |\n",
            "|        ID   ID                                                   Usage      |\n",
            "|=============================================================================|\n",
            "|  No running processes found                                                 |\n",
            "+-----------------------------------------------------------------------------+\n"
          ],
          "name": "stdout"
        }
      ]
    },
    {
      "cell_type": "code",
      "metadata": {
        "id": "2i3pW2oBijhd",
        "colab": {
          "base_uri": "https://localhost:8080/",
          "height": 34
        },
        "outputId": "a5c4313d-ba9e-4f34-a4c2-6bb79b0f9491"
      },
      "source": [
        "cd .."
      ],
      "execution_count": null,
      "outputs": [
        {
          "output_type": "stream",
          "text": [
            "/content/gdrive/My Drive/deepfake/first-order-model\n"
          ],
          "name": "stdout"
        }
      ]
    },
    {
      "cell_type": "markdown",
      "metadata": {
        "id": "oKIY1BbRLCfp"
      },
      "source": [
        "Run following command to create **deep fake**\n",
        "\n",
        "\n",
        "\n",
        "## Follow the following instrction in order get best results\n",
        "\n",
        "1.   your source image must be 256x256 size\n",
        "2.   If your using your own video than you must crop your video using face-alignment module mentioned above, the size of that video will be 256x256 by default\n",
        "3.   Align the your image with driving video first frame, you can using any video editor to do this, otherwise your resultant video would be massy and all over the place..\n",
        "New section\n",
        "\n",
        "\n",
        "\n"
      ]
    },
    {
      "cell_type": "code",
      "source": [
        "!!pip install --upgrade imageio-ffmpeg"
      ],
      "metadata": {
        "colab": {
          "base_uri": "https://localhost:8080/"
        },
        "id": "7TGXXiQfVU6a",
        "outputId": "f0afdabd-eb08-440d-ce6e-5de6b1dcbe02"
      },
      "execution_count": null,
      "outputs": [
        {
          "output_type": "execute_result",
          "data": {
            "text/plain": [
              "['Looking in indexes: https://pypi.org/simple, https://us-python.pkg.dev/colab-wheels/public/simple/',\n",
              " 'Requirement already satisfied: imageio-ffmpeg in /usr/local/lib/python3.7/dist-packages (0.4.7)']"
            ]
          },
          "metadata": {},
          "execution_count": 23
        }
      ]
    },
    {
      "cell_type": "code",
      "source": [
        "!pip3 install imageio==2.4.1"
      ],
      "metadata": {
        "colab": {
          "base_uri": "https://localhost:8080/"
        },
        "id": "2ds4_VIwVgxG",
        "outputId": "cd07c850-c7af-4455-983a-ea6db8a107c1"
      },
      "execution_count": null,
      "outputs": [
        {
          "output_type": "stream",
          "name": "stdout",
          "text": [
            "Looking in indexes: https://pypi.org/simple, https://us-python.pkg.dev/colab-wheels/public/simple/\n",
            "Collecting imageio==2.4.1\n",
            "  Downloading imageio-2.4.1.tar.gz (3.3 MB)\n",
            "\u001b[K     |████████████████████████████████| 3.3 MB 2.1 MB/s \n",
            "\u001b[?25hRequirement already satisfied: numpy in /usr/local/lib/python3.7/dist-packages (from imageio==2.4.1) (1.21.6)\n",
            "Requirement already satisfied: pillow in /usr/local/lib/python3.7/dist-packages (from imageio==2.4.1) (7.1.2)\n",
            "Building wheels for collected packages: imageio\n",
            "  Building wheel for imageio (setup.py) ... \u001b[?25l\u001b[?25hdone\n",
            "  Created wheel for imageio: filename=imageio-2.4.1-py3-none-any.whl size=3303885 sha256=d9e44fcb1cb992585ec6706a1d7fd2e40d403a347bc62facd3a18378ed6e89a9\n",
            "  Stored in directory: /root/.cache/pip/wheels/46/20/07/7bb9c8c44e6ec2efa60fd0e6280094f53f65f41767ef69a5ee\n",
            "Successfully built imageio\n",
            "Installing collected packages: imageio\n",
            "  Attempting uninstall: imageio\n",
            "    Found existing installation: imageio 2.9.0\n",
            "    Uninstalling imageio-2.9.0:\n",
            "      Successfully uninstalled imageio-2.9.0\n",
            "Successfully installed imageio-2.4.1\n"
          ]
        }
      ]
    },
    {
      "cell_type": "code",
      "source": [
        "!pip install moviepy"
      ],
      "metadata": {
        "colab": {
          "base_uri": "https://localhost:8080/"
        },
        "id": "1A0_xM5uVpIh",
        "outputId": "1cad0de4-a2d1-43b6-857b-cd6f92824644"
      },
      "execution_count": null,
      "outputs": [
        {
          "output_type": "stream",
          "name": "stdout",
          "text": [
            "Looking in indexes: https://pypi.org/simple, https://us-python.pkg.dev/colab-wheels/public/simple/\n",
            "Requirement already satisfied: moviepy in /usr/local/lib/python3.7/dist-packages (0.2.3.5)\n",
            "Requirement already satisfied: imageio<3.0,>=2.1.2 in /usr/local/lib/python3.7/dist-packages (from moviepy) (2.4.1)\n",
            "Requirement already satisfied: decorator<5.0,>=4.0.2 in /usr/local/lib/python3.7/dist-packages (from moviepy) (4.4.2)\n",
            "Requirement already satisfied: tqdm<5.0,>=4.11.2 in /usr/local/lib/python3.7/dist-packages (from moviepy) (4.64.1)\n",
            "Requirement already satisfied: numpy in /usr/local/lib/python3.7/dist-packages (from moviepy) (1.21.6)\n",
            "Requirement already satisfied: pillow in /usr/local/lib/python3.7/dist-packages (from imageio<3.0,>=2.1.2->moviepy) (7.1.2)\n"
          ]
        }
      ]
    },
    {
      "cell_type": "code",
      "metadata": {
        "id": "VRHkE6MZQPO-",
        "colab": {
          "base_uri": "https://localhost:8080/"
        },
        "outputId": "048c1f47-1d91-44d3-e7c4-b962b923daa3"
      },
      "source": [
        "!python demo.py  --config config/vox-adv-256.yaml --driving_video /content/gdrive/MyDrive/deepfake/first-order-model/crop.mp4 --source_image Files/02.png --checkpoint Files/vox-adv-cpk.pth.tar --relative --adapt_scale"
      ],
      "execution_count": null,
      "outputs": [
        {
          "output_type": "stream",
          "name": "stdout",
          "text": [
            "tcmalloc: large alloc 1283457024 bytes == 0xaa3ee000 @  0x7f04cae281e7 0x7f04c76850ce 0x7f04c76e1715 0x7f04c76e1d1b 0x7f04c7782333 0x58eb9c 0x51b4e6 0x5b41c5 0x58f49e 0x51837f 0x5b41c5 0x604133 0x606e06 0x606ecc 0x609aa6 0x64d332 0x64d4de 0x7f04caa25c87 0x5b561a\n",
            "100% 816/816 [00:17<00:00, 45.66it/s]\n"
          ]
        }
      ]
    },
    {
      "cell_type": "markdown",
      "metadata": {
        "id": "aL9xk37mjhxB"
      },
      "source": [
        "check out you will have the **result.mp4** in first order model directory "
      ]
    },
    {
      "cell_type": "code",
      "metadata": {
        "id": "UxspGTnfjgZN",
        "colab": {
          "base_uri": "https://localhost:8080/",
          "height": 272
        },
        "outputId": "0d0d15bf-847a-4c18-9cf7-9d274f65db38"
      },
      "source": [
        "ls"
      ],
      "execution_count": null,
      "outputs": [
        {
          "output_type": "stream",
          "text": [
            " animate.py               \u001b[0m\u001b[01;34mface-alignment\u001b[0m/     'result2 (1).mp4'\n",
            " augmentation.py          \u001b[01;34mFiles\u001b[0m/               result2.mp4\n",
            " \u001b[01;34mconfig\u001b[0m/                  frames_dataset.py    result32.mp4\n",
            "'Copy of 12.png'          girl.jpg             result4.mp4\n",
            "'Copy of doll-02.png'     Intro_deepFake.mp4   result5.mp4\n",
            "'Copy of got-08.png'      Koli.png             result.mp4\n",
            "'Copy of statue-01.png'   LICENSE.md           reuslt3.mp4\n",
            " crop2.mp4                logger.py            run.py\n",
            " crop.mp4                 \u001b[01;34mmodules\u001b[0m/             statue-03.png\n",
            " crop-video.py            obma.png             statue-04.png\n",
            " \u001b[01;34mdata\u001b[0m/                    \u001b[01;34m__pycache__\u001b[0m/         \u001b[01;34msup-mat\u001b[0m/\n",
            " demo.ipynb               README.md            \u001b[01;34msync_batchnorm\u001b[0m/\n",
            " demo.py                  reconstruction.py    train.py\n",
            " Dockerfile               requirements.txt     Untitled.png\n",
            " enistan.png              result1.mp4          virat-kohli.png\n"
          ],
          "name": "stdout"
        }
      ]
    }
  ]
}